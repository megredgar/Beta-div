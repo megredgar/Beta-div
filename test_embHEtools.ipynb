{
  "nbformat": 4,
  "nbformat_minor": 0,
  "metadata": {
    "colab": {
      "provenance": [],
      "authorship_tag": "ABX9TyMNBNJHZ3FAwkB0FEYKO/x9",
      "include_colab_link": true
    },
    "kernelspec": {
      "name": "python3",
      "display_name": "Python 3"
    },
    "language_info": {
      "name": "python"
    }
  },
  "cells": [
    {
      "cell_type": "markdown",
      "metadata": {
        "id": "view-in-github",
        "colab_type": "text"
      },
      "source": [
        "<a href=\"https://colab.research.google.com/github/megredgar/Beta-div/blob/master/test_embHEtools.ipynb\" target=\"_parent\"><img src=\"https://colab.research.google.com/assets/colab-badge.svg\" alt=\"Open In Colab\"/></a>"
      ]
    },
    {
      "cell_type": "code",
      "execution_count": 35,
      "metadata": {
        "id": "3i8oJpdxT5cr"
      },
      "outputs": [],
      "source": [
        "import sys\n",
        "import os\n",
        "import sqlite3\n",
        "import pandas as pd\n",
        "import embHEtools"
      ]
    },
    {
      "cell_type": "code",
      "source": [
        "os.chdir(\"C:/Users/megre/HawkEars\")"
      ],
      "metadata": {
        "id": "cxE01Ie6VNHU"
      },
      "execution_count": 5,
      "outputs": []
    },
    {
      "cell_type": "code",
      "source": [
        "projectname=\"MAWAprj\""
      ],
      "metadata": {
        "id": "m00QBn6iVZm1"
      },
      "execution_count": 6,
      "outputs": []
    },
    {
      "cell_type": "code",
      "source": [
        "spp_to_include=[\"MAWA\"]"
      ],
      "metadata": {
        "id": "55Am1vd8Vd4F"
      },
      "execution_count": 7,
      "outputs": []
    },
    {
      "cell_type": "code",
      "source": [
        "orgid=fr\"ABMI/ARU\"\n",
        "projid=fr\"ABMI-EH\"\n",
        "yearid=2022\n",
        "siteid=fr\"228\"\n",
        "runid=fr\"{projectname}_{projid}_{siteid}_{yearid}\"\n",
        "audio_dir=fr\"//nfs3.wildtrax.ca/BUpublic/{orgid}/{projid}/{yearid}/V1/{siteid}\""
      ],
      "metadata": {
        "id": "QjJkabzWViVf"
      },
      "execution_count": 8,
      "outputs": []
    },
    {
      "cell_type": "code",
      "source": [
        "min_mmdd=501\n",
        "max_mmdd=504\n",
        "min_time=50000\n",
        "max_time=70000"
      ],
      "metadata": {
        "id": "uaYJIhhkWtKa"
      },
      "execution_count": 9,
      "outputs": []
    },
    {
      "cell_type": "code",
      "source": [
        "cutoff=0.01\n",
        "overlap=0\n",
        "merge=0"
      ],
      "metadata": {
        "id": "0eYo98dHW45L"
      },
      "execution_count": 14,
      "outputs": []
    },
    {
      "cell_type": "code",
      "source": [
        "python = fr\"C:/Users/megre/HawkEars/hawkears_venv/Scripts/python.exe\""
      ],
      "metadata": {
        "id": "vH_v6eJcW-Xa"
      },
      "execution_count": 15,
      "outputs": []
    },
    {
      "cell_type": "code",
      "source": [
        "hawkears_code = fr\"C:/Users/megre/HawkEars/analyze.py\""
      ],
      "metadata": {
        "id": "MmDpNge7XGzT"
      },
      "execution_count": 16,
      "outputs": []
    },
    {
      "cell_type": "code",
      "source": [
        "he_allspp_cv = \"C:/Users/megre/HawkEars/species_codes_morethanbirds.csv\""
      ],
      "metadata": {
        "id": "iAHn1GD3XKW3"
      },
      "execution_count": 18,
      "outputs": []
    },
    {
      "cell_type": "code",
      "source": [
        "# Locations of input files required by HawkEars\n",
        "output_dir = fr\"G:/My Drive/test_hawkears/{runid}\"\n",
        "#After crawling server this is the folder where text files from each run are going to be stored\n",
        "\n",
        "fileall = fr\"{output_dir}/{runid}_files.csv\" # Location of all files found in the selected audio_dir\n",
        "filecount = fr\"{output_dir}/{runid}_countfiles.csv\" # Location of counts of wac/wav files per location\n",
        "fileformat = fr\"{output_dir}/{runid}_formatfiles.csv\" # Location of all files, formatted for selection\n",
        "filesubset = fr\"{output_dir}/{runid}_subsetfiles.csv\"\n",
        "# Location of selected recordings based on date/time\n",
        "\n",
        "filemerge = fr\"{output_dir}/{runid}_mergefiles.csv\" # Location of merged count and subset data\n",
        "filelistoflists = fr\"{output_dir}/{runid}_listoflists.csv\"\n",
        "#Location of the list of files you are going to send to HawkEars the directory they are in\n",
        "\n"
      ],
      "metadata": {
        "id": "NZDQAHg3XOtR"
      },
      "execution_count": 26,
      "outputs": []
    },
    {
      "cell_type": "code",
      "source": [
        "# Locations of output files from HawkEars\n",
        "tag_dir = fr\"G:/My Drive/test_hawkears/tags/{runid}\"\n",
        "\n",
        "# Tags created by HawkEars in raw CSV\n",
        "foldertags = fr\"{tag_dir}/{runid}\" # Location of where HawkEars writes tags in CSV format\n",
        "\n",
        "database_name = fr\"G:/My Drive/test_hawkears/hawkears_{projectname}_database.db\"\n",
        "# Where results are stored in addition to raw CSV\n",
        "\n",
        "rootdir_subset = fr\"G:/My Drive/test_hawkears/hawkears_outputs\"\n",
        "# Loops through this folder structure to find every file processed you selected for HawkEars to run and writes the path to database\n",
        "\n",
        "# Location of logs\n",
        "os.makedirs(foldertags, exist_ok=True)\n",
        "log_file_path = fr\"{foldertags}/{runid}_output_log.txt\"  # Log file location\n",
        "log_file = open(log_file_path, \"w\", buffering=1, encoding=\"utf-8\")  # Line-buffered"
      ],
      "metadata": {
        "id": "C9iyquRQaJ4q"
      },
      "execution_count": 27,
      "outputs": []
    },
    {
      "cell_type": "code",
      "source": [
        "# Workflow\n",
        "# Send logs to screen and text file\n",
        "from embHEtools import Tee\n",
        "Tee = Tee(log_file_path)\n",
        "sys.stdout = Tee\n",
        "sys.stderr = Tee\n",
        "\n",
        "# Settings used for this run that are tracked in the log\n",
        "print(fr\"Focal species are: {spp_to_include}\")\n",
        "print(fr\"Minimum date of year is: {min_mmdd}\")\n",
        "print(fr\"Maximum date of year is: {max_mmdd}\")\n",
        "print(fr\"Minimum time of day is: {min_time}\")\n",
        "print(fr\"Maximum time of day is: {max_time}\")\n",
        "print(fr\"HE score cutoff value is: {cutoff}\")\n",
        "print(fr\"Overlap value is: {overlap}\")\n",
        "print(fr\"Merge value is: {merge}\")\n"
      ],
      "metadata": {
        "colab": {
          "base_uri": "https://localhost:8080/",
          "height": 215
        },
        "id": "Y-6F6Cg4aqIQ",
        "outputId": "c924ed8a-ccde-4c00-b1f5-cd6c2d180e0c"
      },
      "execution_count": 34,
      "outputs": [
        {
          "output_type": "error",
          "ename": "ImportError",
          "evalue": "cannot import name 'Tee' from 'embHEtools' (unknown location)",
          "traceback": [
            "\u001b[31m---------------------------------------------------------------------------\u001b[39m",
            "\u001b[31mImportError\u001b[39m                               Traceback (most recent call last)",
            "\u001b[36mCell\u001b[39m\u001b[36m \u001b[39m\u001b[32mIn[34]\u001b[39m\u001b[32m, line 3\u001b[39m\n\u001b[32m      1\u001b[39m \u001b[38;5;66;03m# Workflow\u001b[39;00m\n\u001b[32m      2\u001b[39m \u001b[38;5;66;03m# Send logs to screen and text file\u001b[39;00m\n\u001b[32m----> \u001b[39m\u001b[32m3\u001b[39m \u001b[38;5;28;01mfrom\u001b[39;00m\u001b[38;5;250m \u001b[39m\u001b[34;01membHEtools\u001b[39;00m\u001b[38;5;250m \u001b[39m\u001b[38;5;28;01mimport\u001b[39;00m Tee\n\u001b[32m      4\u001b[39m Tee = Tee(log_file_path)\n\u001b[32m      5\u001b[39m sys.stdout = Tee\n",
            "\u001b[31mImportError\u001b[39m: cannot import name 'Tee' from 'embHEtools' (unknown location)"
          ]
        }
      ]
    },
    {
      "cell_type": "code",
      "source": [
        "# 0. Sets species you want HawkEars to scan for in recordings\n",
        "embHEtools.hawkears_selectspp(he_allspp_cv, spp_to_include)\n",
        "\n",
        "# 1. Scans all folders on your storage space recursively and writes paths to wav and wac files. Only wav processed currently. Stored as CSV.\n",
        "embHEtools.audiolist_create(audio_dir, fileall)\n",
        "\n",
        "# 2. Create a list of all locations and count # of wac vs wav files. Only wav processed currently. Stored as CSV.\n",
        "embHEtools.audiolist_count(fileall, filecount)\n",
        "\n",
        "# 3. Formats the full list of audio files to allow selection of recordings with certain properties (retains path). Stored as CSV\n",
        "embHEtools.audiolist_format(fileall, fileformat)\n",
        "\n",
        "# 4. Select the mmdd (aka recording_date without year) and recording_time(s) you want. This subset stored as CSV\n",
        "embHEtools.audiolist_filter(fileformat, min_mmdd, max_mmdd, min_time, max_time, filesubset)\n",
        "\n",
        "# 5. Joins count data to subset data and saves to filemerge. Stored as CSV\n",
        "embHEtools.audiolist_join(filecount, filesubset, filemerge)\n",
        "\n",
        "# 6. Create individual HawkEars lists to run for each location. Stored as CSV\n",
        "embHEtools.audiolist_filelist(filemerge, input_dir)\n",
        "\n",
        "# 7. Make a master list of filelists. Filelists are the recordings that you select for Hawk Ears to process. Stored as CSV\n",
        "embHEtools.audiolist_listoflists(filemerge, filelistoflists, input_dir, foldertags)\n",
        "\n",
        "\n"
      ],
      "metadata": {
        "colab": {
          "base_uri": "https://localhost:8080/",
          "height": 197
        },
        "id": "hgbqKlGIa8PW",
        "outputId": "75dfffe8-18c7-4461-e95f-367df1389f53"
      },
      "execution_count": 32,
      "outputs": [
        {
          "output_type": "error",
          "ename": "NameError",
          "evalue": "name 'embHEtools' is not defined",
          "traceback": [
            "\u001b[31m---------------------------------------------------------------------------\u001b[39m",
            "\u001b[31mNameError\u001b[39m                                 Traceback (most recent call last)",
            "\u001b[36mCell\u001b[39m\u001b[36m \u001b[39m\u001b[32mIn[32]\u001b[39m\u001b[32m, line 2\u001b[39m\n\u001b[32m      1\u001b[39m \u001b[38;5;66;03m# 0. Sets species you want HawkEars to scan for in recordings\u001b[39;00m\n\u001b[32m----> \u001b[39m\u001b[32m2\u001b[39m \u001b[43membHEtools\u001b[49m.hawkears_selectspp(he_allspp_cv, spp_to_include)\n\u001b[32m      4\u001b[39m \u001b[38;5;66;03m# 1. Scans all folders on your storage space recursively and writes paths to wav and wac files. Only wav processed currently. Stored as CSV.\u001b[39;00m\n\u001b[32m      5\u001b[39m embHEtools.audiolist_create(audio_dir, fileall)\n",
            "\u001b[31mNameError\u001b[39m: name 'embHEtools' is not defined"
          ]
        }
      ]
    },
    {
      "cell_type": "code",
      "source": [
        "# 8. Run HawkEars and populates a SQL database\n",
        "embHEtools.hawkears_run(database_name, filelistoflists, python, hawkears_code, cutoff, overlap, merge)\n",
        "\n",
        "# 9. Create/update SQL database table that has all required fields for fields created by Hawk Ears. Called hawkears_results in your SQL database\n",
        "embHEtools.hawkears_dbaseupdate(database_name)\n",
        "\n",
        "#10. Create/ update database table that has a list of all files that you attempted to run and the path to those files. Called all_subsetfiles in your SQLdatabase\n",
        "embHEtools.hawkears_filesrun(rootdir_subset, database_name)\n",
        "\n",
        "# Shut down log system\n",
        "sys.stdout.flush()\n",
        "sys.stderr.flush()\n",
        "Tee.close()\n",
        "\n",
        "# Completed automated recognition workflow\n",
        "print(\"✅ Processing complete! Log file saved to:\", log_file_path)\n",
        "\n"
      ],
      "metadata": {
        "id": "RFwo9LdwbFuS"
      },
      "execution_count": null,
      "outputs": []
    },
    {
      "cell_type": "code",
      "source": [
        "#@title Create vtbl(s)\n",
        "# Validation tables are created if they do not exist. If they exist, they are updated with data that is not duplicates.\n",
        "# If duplicates (i.e you reran same files using same settings the labels are not written to the database because they exist)\n",
        "import embHEtools\n",
        "import sqlite3\n",
        "import pandas as pd\n",
        "\n",
        "# Database and table names\n",
        "database_name = \"G:/Shared drives/Bayne_Research/projects/oven_arrival/hawkears_tewa999_database.db\" # Name of the SQLite database to call hawkears_results from\n",
        "\n",
        "# Validation settings\n",
        "top_n = 1 # Number of best tags to keep in a recording (filename) for validation. All tags above cutoff are kept in hawkears_results table, this is just for validation. Default validation setting is all labels\n",
        "min_spacing = 30 # Approximate number of seconds between the tags selected for validation. Goal here is to make sure validated songs are unique and not HawkEars scoring same song as the window slides.\n",
        "validation_type = 2  # Choose from: 1=bestlocationlabel, 2=firstlocationlabel, 3=bestfilelabel, 4=firstfilelabel, 5=minmaxfilelabel, 6=gradientfilelabel, 7=alllabels, 8=firstlocationlabel_alltop_n\n",
        "validation_table = (fr\"vtbl{validation_type}\") # Automatic naming\n",
        "labelsperbin = 10 # For gradientfilelabel method (# 6)\n",
        "\n",
        "# Create validation dataset\n",
        "embHEtools.validate_maketables(database_name=database_name, validation_table=validation_table, top_n = top_n, min_spacing = min_spacing, validation_type=validation_type, labelsperbin=3)\n",
        "\n"
      ],
      "metadata": {
        "id": "LsHnEL-0bH5a"
      },
      "execution_count": null,
      "outputs": []
    },
    {
      "cell_type": "code",
      "source": [
        "#@title Validate data\n",
        "import embHEtools\n",
        "\n",
        "# Database and table names\n",
        "database_name = \"G:/Shared drives/Bayne_Research/projects/oven_arrival/hawkears_TEWA999_database.db\" # Name of the SQLite database to call hawkears_results from\n",
        "vtype = 2  # Choose from: 1=bestlocationlabel, 2=firstlocationlabel, 3=bestfilelabel, 4=firstfilelabel, 5=minmaxfilelabel, 6=gradientfilelabel, 7=alllabels\n",
        "class_code = 'OVEN'\n",
        "validation_table = (fr\"vtbl{vtype}_{class_code}\") # Automatic naming\n",
        "\n",
        "embHEtools.validator(\n",
        "    database_name=database_name,\n",
        "    validation_table=validation_table,\n",
        "    class_code=class_code,\n",
        "    buffer=1,\n",
        "    min_freq=3000,\n",
        "    max_freq=10000,\n",
        "    n_fft=512,\n",
        "    hop_length=256,\n",
        "    target_sr=22000,\n",
        "    use_setduration=False,\n",
        "    set_duration=10.0\n",
        ")\n",
        "\n"
      ],
      "metadata": {
        "id": "MHTJTp5mbKfH"
      },
      "execution_count": null,
      "outputs": []
    }
  ]
}